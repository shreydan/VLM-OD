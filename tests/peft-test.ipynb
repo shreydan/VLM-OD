{
 "cells": [
  {
   "cell_type": "code",
   "execution_count": 86,
   "id": "6ddf2f48-4874-4d85-b3ca-d3de78715f28",
   "metadata": {},
   "outputs": [],
   "source": [
    "from transformers import AutoProcessor, AutoModelForVision2Seq\n",
    "import torch\n",
    "model = AutoModelForVision2Seq.from_pretrained(\n",
    "    \"HuggingFaceTB/SmolVLM-256M-Instruct\",\n",
    "    torch_dtype=torch.bfloat16,\n",
    "    # _attn_implementation=\"flash_attention_2\" if DEVICE == \"cuda\" else \"eager\",\n",
    ")"
   ]
  },
  {
   "cell_type": "code",
   "execution_count": 87,
   "id": "7f483c42-ff43-478f-82e3-cd3011961d16",
   "metadata": {},
   "outputs": [
    {
     "data": {
      "text/plain": [
       "(1025, ['<detect>', '<loc0000>', '<loc0001>', '<loc0002>', '<loc0003>'])"
      ]
     },
     "execution_count": 87,
     "metadata": {},
     "output_type": "execute_result"
    }
   ],
   "source": [
    "new_tokens = ['<detect>',*[f'<loc{v:04d}>' for v in range(1024)]]\n",
    "processor = AutoProcessor.from_pretrained(\"HuggingFaceTB/SmolVLM-256M-Instruct\", additional_special_tokens=new_tokens)\n",
    "len(new_tokens), new_tokens[:5]"
   ]
  },
  {
   "cell_type": "code",
   "execution_count": 88,
   "id": "b02c3301-e943-4131-bbf7-8ad116046a77",
   "metadata": {},
   "outputs": [
    {
     "data": {
      "text/plain": [
       "Embedding(50305, 576, padding_idx=2)"
      ]
     },
     "execution_count": 88,
     "metadata": {},
     "output_type": "execute_result"
    }
   ],
   "source": [
    "\n",
    "model.resize_token_embeddings(len(processor.tokenizer))"
   ]
  },
  {
   "cell_type": "code",
   "execution_count": 89,
   "id": "06b01b62-d806-4bcf-982c-fc242c242569",
   "metadata": {},
   "outputs": [],
   "source": [
    "from peft import LoraConfig, get_peft_model"
   ]
  },
  {
   "cell_type": "code",
   "execution_count": 90,
   "id": "6138a0fe-4bdc-4a13-af20-d43d1b7c8381",
   "metadata": {},
   "outputs": [],
   "source": [
    "targets = ['q_proj','k_proj','v_proj','out_proj','gate_proj','up_proj','down_proj']"
   ]
  },
  {
   "cell_type": "code",
   "execution_count": 91,
   "id": "b4e880dc-d511-40f8-9614-d50ffb189258",
   "metadata": {},
   "outputs": [
    {
     "name": "stdout",
     "output_type": "stream",
     "text": [
      "trainable params: 51,020,352 || all params: 308,686,080 || trainable%: 16.5282\n"
     ]
    }
   ],
   "source": [
    "config = LoraConfig(\n",
    "    r=64,\n",
    "    lora_alpha=16,\n",
    "    target_modules=targets,\n",
    "    lora_dropout=0.1,\n",
    "    bias=\"none\",\n",
    "    modules_to_save=['embed_tokens','lm_head'],\n",
    "    inference_mode=False,\n",
    "    task_type='CAUSAL_LM'\n",
    ")\n",
    "model = get_peft_model(model, config)\n",
    "model.get_output_embeddings().modules_to_save.default.weight = model.get_input_embeddings().modules_to_save.default.weight\n",
    "model.print_trainable_parameters()"
   ]
  }
 ],
 "metadata": {
  "kernelspec": {
   "display_name": "Python 3 (ipykernel)",
   "language": "python",
   "name": "python3"
  },
  "language_info": {
   "codemirror_mode": {
    "name": "ipython",
    "version": 3
   },
   "file_extension": ".py",
   "mimetype": "text/x-python",
   "name": "python",
   "nbconvert_exporter": "python",
   "pygments_lexer": "ipython3",
   "version": "3.11.11"
  }
 },
 "nbformat": 4,
 "nbformat_minor": 5
}
