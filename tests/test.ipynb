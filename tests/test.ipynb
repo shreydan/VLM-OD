{
 "cells": [
  {
   "cell_type": "code",
   "execution_count": 44,
   "metadata": {},
   "outputs": [],
   "source": [
    "x_min = 210\n",
    "y_min = 334\n",
    "width = 110\n",
    "height = 112\n",
    "img_width = 640\n",
    "img_height = 480"
   ]
  },
  {
   "cell_type": "code",
   "execution_count": 73,
   "metadata": {},
   "outputs": [],
   "source": [
    "import numpy as np\n",
    "from PIL import Image\n",
    "import matplotlib.pyplot as plt\n",
    "import matplotlib.patches as patches\n",
    "import re"
   ]
  },
  {
   "cell_type": "code",
   "execution_count": 59,
   "metadata": {},
   "outputs": [],
   "source": [
    "x_min = 210\n",
    "y_min = 334\n",
    "width = 110\n",
    "height = 112\n",
    "img_width = 640\n",
    "img_height = 480"
   ]
  },
  {
   "cell_type": "code",
   "execution_count": 80,
   "metadata": {},
   "outputs": [],
   "source": [
    "def coco_to_token(bbox,img_width=640,img_height=480):\n",
    "    \"\"\"\n",
    "    required_token_format: (y_min, x_min, y_max, x_max)\n",
    "    \"\"\"\n",
    "    x_min, y_min, width, height = bbox\n",
    "    new_x_min = int((x_min/img_width) * 1024)\n",
    "    new_x_max = int(((x_min+width)/img_width) * 1024)\n",
    "    new_y_min = int((y_min/img_height) * 1024)\n",
    "    new_y_max = int(((y_min+height)/img_height) * 1024)\n",
    "    new_bbox = [new_y_min, new_x_min, new_y_max, new_x_max]\n",
    "    return [f\"<|loc{val:04d}|>\" for val in new_bbox]\n",
    "\n",
    "def token_to_coco(tokens,img_width=640,img_height=480):\n",
    "    norm = lambda c,d : (c/1024) * d\n",
    "\n",
    "    vals = [int(re.search(r\"\\d+\", t).group()) for t in tokens]\n",
    "    y_min, x_min, y_max, x_max = vals\n",
    "    y_min, y_max = norm(y_min, img_height), norm(y_max, img_height)\n",
    "    x_min, x_max = norm(x_min, img_width), norm(x_max, img_width)\n",
    "\n",
    "    width = x_max - x_min\n",
    "    height = x_max - x_min\n",
    "    return [x_min, y_min, width, height]"
   ]
  },
  {
   "cell_type": "code",
   "execution_count": 77,
   "metadata": {},
   "outputs": [
    {
     "data": {
      "text/plain": [
       "(640, 480)"
      ]
     },
     "execution_count": 77,
     "metadata": {},
     "output_type": "execute_result"
    }
   ],
   "source": [
    "im = Image.fromarray(np.ones((img_height,img_width,3),dtype=np.uint8)*255)\n",
    "im.size"
   ]
  },
  {
   "cell_type": "code",
   "execution_count": 81,
   "metadata": {},
   "outputs": [
    {
     "data": {
      "text/plain": [
       "([210, 334, 110, 112],\n",
       " ['<|loc0712|>', '<|loc0336|>', '<|loc0951|>', '<|loc0512|>'],\n",
       " [210.0, 333.75, 110.0, 110.0])"
      ]
     },
     "execution_count": 81,
     "metadata": {},
     "output_type": "execute_result"
    }
   ],
   "source": [
    "bbox=[x_min,y_min,width,height]\n",
    "bbox, coco_to_token(bbox, *im.size), token_to_coco(coco_to_token(bbox, *im.size))"
   ]
  },
  {
   "cell_type": "code",
   "execution_count": 24,
   "metadata": {},
   "outputs": [],
   "source": [
    "def show_bbox(image,x_min,y_min,width,height):\n",
    "    print(x_min,x_min+width,y_min,y_min+height)\n",
    "    fig, ax = plt.subplots(nrows=1, ncols=1)\n",
    "    rect = patches.Rectangle((x_min, y_min), width, height, linewidth=2, edgecolor='r', facecolor='none')\n",
    "    plt.imshow(image)\n",
    "    ax.add_patch(rect)\n",
    "    plt.show()"
   ]
  },
  {
   "cell_type": "code",
   "execution_count": 27,
   "metadata": {},
   "outputs": [
    {
     "name": "stdout",
     "output_type": "stream",
     "text": [
      "210 320 334 446\n"
     ]
    },
    {
     "data": {
      "image/png": "[encoded data removed]",
      "text/plain": [
       "<Figure size 640x480 with 1 Axes>"
      ]
     },
     "metadata": {},
     "output_type": "display_data"
    }
   ],
   "source": [
    "show_bbox(im,x_min,y_min,width,height)"
   ]
  },
  {
   "cell_type": "code",
   "execution_count": null,
   "metadata": {},
   "outputs": [],
   "source": []
  }
 ],
 "metadata": {
  "kernelspec": {
   "display_name": "Python 3 (ipykernel)",
   "language": "python",
   "name": "python3"
  },
  "language_info": {
   "codemirror_mode": {
    "name": "ipython",
    "version": 3
   },
   "file_extension": ".py",
   "mimetype": "text/x-python",
   "name": "python",
   "nbconvert_exporter": "python",
   "pygments_lexer": "ipython3",
   "version": "3.11.11"
  }
 },
 "nbformat": 4,
 "nbformat_minor": 4
}
